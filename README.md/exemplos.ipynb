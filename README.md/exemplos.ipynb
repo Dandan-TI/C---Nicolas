{
 "cells": [
  {
   "cell_type": "markdown",
   "metadata": {},
   "source": [
    "P1 -    Arrays, funcções, alocação dinâmica, ponteiros e struct"
   ]
  },
  {
   "cell_type": "markdown",
   "metadata": {},
   "source": [
    "### Arrays"
   ]
  },
  {
   "cell_type": "markdown",
   "metadata": {},
   "source": [
    "Arrays.\n",
    "O que é um array em programação?\n",
    "Um array é uma estrutura de dados que consiste em uma coleção de elementos, onde cada elemento é identificado por índices que indicam a posição ao qual está inserido. Todo array possui um tipo declarado para receber dados iguais e o número máximo de elementos que podem caber dentro dele.\n",
    "\n",
    "Para que serve um array?\n",
    "Os arrays tem por finalidade armazenar vários dados do mesmo tipo juntos como se tivéssemos vários elementos dentro de uma única variável. Por exemplo um array de nomes (String) só pode conter apenas nomes pois são do mesmo tipo, da mesma forma se fizermos um array que contém apenas dados numéricos não podemos colocar nele caracteres. \n",
    "\n",
    "Como funciona um array na prática?\n",
    "Vamos imaginar uma sala de aula onde cinco estudantes tiraram as melhores notas da sala. Pegamos uma lista para colocar os cinco nomes em ordem.\n",
    "\n",
    "Lista de alunos aprovados:\n",
    "\n",
    "Laura\n",
    "Maria\n",
    "Thiago\n",
    "José\n",
    "Vitória\n",
    "\n",
    "Se alguém perguntasse qual o nome da pessoa que ficou em terceiro lugar, logo você iria olhar a lista e responder “Thiago”.\n",
    "https://blog.betrybe.com/linguagem-de-programacao/o-que-e-array/\n",
    "https://www.w3schools.com/c/c_arrays.php"
   ]
  },
  {
   "cell_type": "code",
   "execution_count": null,
   "metadata": {},
   "outputs": [
    {
     "name": "stdout",
     "output_type": "stream",
     "text": [
      "Hellow word!\n"
     ]
    }
   ],
   "source": [
    "#include <stdio.h>\n",
    "\n",
    "int main() {\n",
    "    char alunos[][20] = {\n",
    "        \"Laura\",\n",
    "        \"Maria\",\n",
    "        \"Thiago\",\n",
    "        \"José\",\n",
    "        \"Vitória\"\n",
    "    };\n",
    "\n",
    "    printf(\"%s\\n\", alunos[2]);  // Imprime \"Thiago\"\n",
    "    return 0;\n",
    "}"
   ]
  },
  {
   "cell_type": "markdown",
   "metadata": {},
   "source": [
    "Nas linguagens de programação os arrays se comportam de uma forma semelhante ao buscar os itens de uma lista, a diferença é que ele começa a contar do 0 o primeiro item. Vejamos:\n",
    "\n",
    "Lista de alunos: \n",
    "\n",
    "                          Posição                                                                Alunos\n",
    "\n",
    "0\tLaura\n",
    "1\tMaria\n",
    "2\tThiago\n",
    "3\tJosé\n",
    "4\tVitória\n",
    "Cada item é um elemento na lista e cada elemento é acessado por um índice que começa do zero. Podemos manipular esses elementos como adicionar na lista, trocar ou removê-los."
   ]
  },
  {
   "cell_type": "markdown",
   "metadata": {},
   "source": [
    "O que são os métodos em array?\n",
    "Métodos são um conjunto de códigos que definem um comportamento específico e pode ou não retornar um valor. No caso de métodos em array, são responsáveis pela manipulação e interação com o array e é muito importante para a pessoa desenvolvedora saber dominá-los para utilizá-los corretamente. \n",
    "\n",
    "Quais os 20 principais métodos usados em array?\n",
    "Listamos abaixo os principais métodos usados em array e seu comportamento na execução:\n",
    "\n",
    "1.Ran: retorna o número de dimensões do array\n",
    "2.GetLength: retorna o número de elementos da dimensão específica do array.\n",
    "3.Length: método que retorna o tamanho de um array.\n",
    "4.GetLowerBound: retorna o índice do primeiro elemento da dimensão especificada no array.\n",
    "5.GetupperBound: retorna o índice do último elemento da dimensão especificada no array.\n",
    "6.IsReadOnly: retorna um valor que indica se o objeto do array é somente leitura.\n",
    "7.IsSynchronized: obtém um valor no array que indica se o objeto está sincronizado, ou seja, se ele é thread-safe. \n",
    "8.SyncRoot: retorna um objeto que pode ser usado para sincronizar o acesso para o array.\n",
    "9.IsFixedSize: retorna um valor indicando se o array é fixo.\n",
    "10.GetValue: retorna o valor de um dado específico armazenado em uma posição do array.\n",
    "11.GetEnumerator: retorna um IEnumerator para o array.\n",
    "12.IndexOf: retorna o índice da primeira ocorrência do valor em um array unidimensional ou em uma parte dele.\n",
    "13.Sort: ordena os elementos de um array.\n",
    "14.LastIndexOf: retorna o índice da última ocorrência do valor do array unidimensional ou em uma parte dele.\n",
    "15.Reverse: inverte a ordem dos elementos em um array unidimensional ou em uma parte dele. \n",
    "16.Clone: cria e retorna uma cópia do array de origem. O array clonado também terá os mesmos campos com os mesmos valores do de origem.\n",
    "17.CopyTo: copia todos os elementos de um array para outro array especificado.\n",
    "18.Copy: copia a seção de um array para o outro, executando qualquer modelagem      requerida.\n",
    "19.Clear: remove todos os elementos de um array.\n",
    "20.Push: método que adiciona um novo elemento no final do array."
   ]
  },
  {
   "cell_type": "markdown",
   "metadata": {},
   "source": [
    "### Funções"
   ]
  },
  {
   "cell_type": "markdown",
   "metadata": {},
   "source": [
    "O que são funções?\n",
    "Funções são blocos de código reutilizáveis que realizam uma tarefa específica. Elas ajudam a organizar e simplificar o código, tornando-o mais legível e fácil de manter.\n",
    "\n",
    "Por que usar funções?\n",
    "Reutilização: Você pode chamar a mesma função várias vezes sem precisar reescrever o código.\n",
    "Organização: Dividem o programa em partes menores e mais fáceis de entender.\n",
    "Manutenção: Alterar uma função afeta todas as partes do programa que a utilizam.\n",
    "Evitar repetição: Reduz a duplicação de código.\n",
    "Estrutura básica de uma função\n",
    "Aqui está um exemplo genérico de como uma função funciona:\n",
    "\n",
    "\n"
   ]
  },
  {
   "cell_type": "code",
   "execution_count": null,
   "metadata": {},
   "outputs": [],
   "source": [
    "#include <stdio.h>\n",
    "\n",
    "int soma(int a, int b) {\n",
    "    return a + b;\n",
    "}\n",
    "\n",
    "int main() {\n",
    "    int resultado = soma(5, 3);\n",
    "    printf(\"Soma: %d\\n\", resultado);\n",
    "    return 0;\n",
    "}"
   ]
  },
  {
   "cell_type": "markdown",
   "metadata": {},
   "source": [
    "def saudacao(nome):\n",
    "    \n",
    "Definição: A palavra-chave def define a função.\n",
    "Parâmetros: nome é o dado que a função recebe.\n",
    "Retorno: A função devolve um valor com return.\n",
    "Exemplo de uso\n",
    "Chamando a função criada acima:\n",
    "\n",
    "Sem parâmetros:"
   ]
  },
  {
   "cell_type": "code",
   "execution_count": null,
   "metadata": {},
   "outputs": [],
   "source": [
    "#include <stdio.h>\n",
    "\n",
    "int main() {\n",
    "    char mensagem[] = \"Ana\";\n",
    "    printf(\"Ola, %s\\n\", mensagem);\n",
    "    return 0;\n",
    "}\n"
   ]
  },
  {
   "cell_type": "markdown",
   "metadata": {},
   "source": [
    "Com parâmetros:"
   ]
  },
  {
   "cell_type": "code",
   "execution_count": null,
   "metadata": {},
   "outputs": [],
   "source": [
    "#include <stdio.h>\n",
    "\n",
    "int main() {\n",
    "    int a, b;\n",
    "\n",
    "    printf(\"Digite a: \");\n",
    "    scanf(\"%d\", &a);\n",
    "\n",
    "    printf(\"Digite b: \");\n",
    "    scanf(\"%d\", &b);\n",
    "\n",
    "    printf(\"Soma igual: %d\\n\", a + b);\n",
    "\n",
    "    return 0;\n",
    "}"
   ]
  },
  {
   "cell_type": "markdown",
   "metadata": {},
   "source": [
    "Função sem retorno (void)\n",
    "→ Apenas executa uma ação, não retorna nenhum valor."
   ]
  },
  {
   "cell_type": "code",
   "execution_count": null,
   "metadata": {},
   "outputs": [],
   "source": [
    "#include <stdio.h>\n",
    "\n",
    "void exibir_mensagem() {\n",
    "    printf(\"Bem-vindo!\\n\");\n",
    "}\n",
    "\n",
    "int main() {\n",
    "    exibir_mensagem();\n",
    "    return 0;\n",
    "}\n"
   ]
  },
  {
   "cell_type": "markdown",
   "metadata": {},
   "source": [
    "Função com retorno (int)\n",
    "→ Recebe um valor, faz um cálculo e retorna um resultado."
   ]
  },
  {
   "cell_type": "code",
   "execution_count": null,
   "metadata": {},
   "outputs": [],
   "source": [
    "#include <stdio.h>\n",
    "\n",
    "int quadrado(int numero) {\n",
    "    return numero * numero;\n",
    "}\n",
    "\n",
    "int main() {\n",
    "    int resultado = quadrado(5);\n",
    "    printf(\"O quadrado de 5 é %d\\n\", resultado);\n",
    "    return 0;\n",
    "}\n"
   ]
  },
  {
   "cell_type": "markdown",
   "metadata": {},
   "source": [
    "### alocação dinâmica"
   ]
  },
  {
   "cell_type": "markdown",
   "metadata": {},
   "source": [
    "https://linguagemc.com.br/alocacao-dinamica-de-memoria-em-c/\n",
    "\n",
    "Alocação Dinâmica\n",
    "\n",
    "Na alocação dinâmica podemos alocar espaços durante a execução de um programa, ou seja, a alocação dinâmica é feita em tempo de execução. Isto é bem interessante do ponto de vista do programador, pois permite que o espaço em memória seja alocado apenas quando necessário. Além disso, a alocação dinâmica permite aumentar ou até diminuir a quantidade de memória alocada.\n",
    "sizeof\n",
    "\n",
    "A função sizeof determina o número de bytes para um determinado tipo de dados.\n",
    "\n",
    "É interessante notar que o número de bytes reservados pode variar de acordo com o compilador utilizado.\n",
    "Exemplo:\n",
    "\n",
    "x = sizeof(int); //retorna 4 no gcc\n",
    "malloc\n",
    "A função malloc aloca um espaço de memória e retorna um ponteiro do tipo void para o início do espaço de memória alocado.\n",
    "free\n",
    "A função free libera o espaço de memória alocado.\n",
    "\n",
    "\n",
    "🔧 Funções principais (da biblioteca <stdlib.h>):\n",
    "malloc() → Aloca memória (sem inicializar).\n",
    "\n",
    "calloc() → Aloca memória e zera.\n",
    "\n",
    "realloc() → Redimensiona uma memória já alocada.\n",
    "\n",
    "free() → Libera a memória (evita vazamentos)."
   ]
  },
  {
   "cell_type": "markdown",
   "metadata": {},
   "source": [
    "Exemplo de alocação dinamica imprime os valores de 1 a 5 :"
   ]
  },
  {
   "cell_type": "code",
   "execution_count": null,
   "metadata": {},
   "outputs": [],
   "source": [
    "#include <stdio.h>\n",
    "#include <stdlib.h>\n",
    "\n",
    "int main() {\n",
    "    int *vetor;\n",
    "    vetor = (int *)malloc(5 * sizeof(int));\n",
    "\n",
    "    if (vetor == NULL) {\n",
    "        printf(\"Erro de alocação.\\n\");\n",
    "        return 1;\n",
    "    }\n",
    "\n",
    "    for (int i = 0; i < 5; i++) {\n",
    "        vetor[i] = i + 1;\n",
    "        printf(\"%d \", vetor[i]);\n",
    "    }\n",
    "\n",
    "    free(vetor); // Libera a memória\n",
    "    return 0;\n",
    "}"
   ]
  },
  {
   "cell_type": "markdown",
   "metadata": {},
   "source": [
    "### Ponteiros"
   ]
  },
  {
   "cell_type": "markdown",
   "metadata": {},
   "source": [
    "https://programae.org.br/cursoprogramacao/glossario/o-que-e-ponteiro-em-programacao/ \n",
    "\n",
    "O que é um ponteiro?\n",
    "Um ponteiro é uma variável que armazena o endereço de memória de outra variável. Isso permite que o programador acesse e modifique diretamente o valor dessa variável na memória. É um conceito fundamental em linguagens como C e C++, oferecendo maior controle sobre a manipulação de dados.\n",
    "\n",
    "🔹 Como funcionam os ponteiros?\n",
    "Quando uma variável é declarada, o sistema aloca um espaço na memória para armazenar seu valor. Um ponteiro pode ser declarado para apontar para esse espaço, permitindo o acesso ao valor da variável através do ponteiro. Em C, por exemplo, utiliza-se o símbolo * para declarar um ponteiro.\n",
    "\n",
    "\n",
    "🔹 Tipos de ponteiros\n",
    "Ponteiros para tipos primitivos: apontam para variáveis de tipos básicos, como int, float, etc.\n",
    "\n",
    "Ponteiros para estruturas: apontam para estruturas (structs) em C.\n",
    "\n",
    "Ponteiros para funções: apontam para funções, permitindo chamadas dinâmicas.\n",
    "\n",
    "Ponteiros nulos: não apontam para nenhum endereço válido.\n",
    "\n",
    "Ponteiros duplos: armazenam o endereço de outro ponteiro.\n",
    "\n"
   ]
  },
  {
   "cell_type": "markdown",
   "metadata": {},
   "source": [
    "Exemplo de ponteiro"
   ]
  },
  {
   "cell_type": "code",
   "execution_count": null,
   "metadata": {},
   "outputs": [],
   "source": [
    "#include <stdio.h>\n",
    "\n",
    "int x = 10;\n",
    "int *p = &x;\n",
    "int main(){\n",
    "printf(\"Valor de x: %d\\n\", *p); // Acessa o valor de x através do ponteiro\n",
    "return 0;\n",
    "}"
   ]
  },
  {
   "cell_type": "markdown",
   "metadata": {},
   "source": [
    "### Struct"
   ]
  },
  {
   "cell_type": "markdown",
   "metadata": {},
   "source": [
    "https://linguagemc.com.br/struct-em-c/\n",
    "O que é uma struct?\n",
    "Em C, uma struct (estrutura) é uma variável especial que agrupa diversas outras variáveis, geralmente de tipos diferentes, sob um mesmo nome. Essas variáveis internas são chamadas de membros da estrutura.\n",
    "\n",
    "As structs são úteis para representar entidades do mundo real, como alunos, produtos ou funcionários, onde cada entidade possui múltiplas características.\n",
    "\n",
    "Para que serve?\n",
    "Organizar dados relacionados: Permite agrupar informações que pertencem a um mesmo contexto.\n",
    "\n",
    "Facilitar o gerenciamento de dados complexos: Torna o código mais legível e modular.\n",
    "\n",
    "Criar tipos personalizados: Possibilita a definição de novos tipos de dados adaptados às necessidades do programa.\n",
    "Acesso aos membros\n",
    "\n",
    "Com variável direta → usa .\n",
    "aluno.nota\n",
    "\n",
    "Com ponteiro → usa ->\n",
    "ptr_aluno->nota\n",
    "\n",
    "2️⃣ Usar com typedef (facilita muito!)\n",
    "→ Deixa seu código mais limpo, sem precisar escrever sempre struct.\n",
    "\n",
    "typedef struct {\n",
    "    char nome[50];\n",
    "    int idade;\n",
    "} Pessoa;\n",
    "\n",
    "Pessoa p1;\n",
    "3️⃣ Passagem para funções\n",
    "Pode passar uma struct:\n",
    "\n",
    "Por valor (faz uma cópia)\n",
    "Por referência (mais eficiente, usando ponteiros)\n",
    "\n",
    "✔️ Exemplo por referência:\n",
    "void mostrar(Pessoa *p) {\n",
    "    printf(\"Nome: %s\\n\", p->nome);\n",
    "}\n",
    "\n",
    "4️⃣ Struct dentro de struct (Aninhamento)\n",
    "✔️ Exemplo:\n",
    "typedef struct {\n",
    "    int dia, mes, ano;\n",
    "} Data;\n",
    "\n",
    "typedef struct {\n",
    "    char nome[50];\n",
    "    Data nascimento;\n",
    "} Pessoa;\n",
    "\n",
    "\n",
    "5️⃣ Arrays de structs\n",
    "✔️ Útil para listas de alunos, produtos, etc.\n",
    "Pessoa lista[100];\n",
    "\n",
    "6️⃣ Alocação dinâmica com structs\n",
    "✔️ Para criar structs em tempo de execução:\n",
    "Pessoa *p = (Pessoa *)malloc(sizeof(Pessoa));\n",
    "\n",
    "Arquivos e structs\n",
    "✔️ Muito comum salvar e carregar structs em arquivos binários.\n",
    "\n",
    "Resumão do que é essencial:\n",
    "Declarar e acessar structs.\n",
    "\n",
    "Usar typedef para simplificar.\n",
    "\n",
    "Passar structs para funções (por valor ou ponteiro).\n",
    "\n",
    "Usar arrays de structs.\n",
    "\n",
    "Fazer structs aninhadas.\n",
    "\n",
    "Alocar structs dinamicamente (se precisar).\n",
    "\n",
    "Trabalhar com structs e arquivos (em programas maiores)."
   ]
  },
  {
   "cell_type": "code",
   "execution_count": null,
   "metadata": {},
   "outputs": [],
   "source": [
    "#include <stdio.h>\n",
    "#include <string.h>\n",
    "\n",
    "struct Pessoa {\n",
    "     char nome[50]; \n",
    "     int idade;\n",
    "};\n",
    "\n",
    "int main() {\n",
    "     struct Pessoa lista[3];\n",
    "\n",
    "     for (int i = 0; i < 3; i++) {\n",
    "           printf(\"Digite o nome da pessoa %d: \", i+1);\n",
    "           scanf (\"%s\", lista[i].nome);\n",
    "           printf (\"Digite a idade: \");\n",
    "           scanf (\"%d\", &lista[i].idade);\n",
    "      }\n",
    "\n",
    "      printf(\"\\nLista de pessoas: \\n\");\n",
    "      for (int i = 0; i < 3; i++) {\n",
    "            printf(\"%s tem %d anos\\n\", lista[i].nome, lista[i].idade);\n",
    "}\n",
    "return 0;\n",
    "}\n",
    "\n"
   ]
  }
 ],
 "metadata": {
  "kernelspec": {
   "display_name": "Python 3",
   "language": "python",
   "name": "python3"
  },
  "language_info": {
   "codemirror_mode": {
    "name": "ipython",
    "version": 3
   },
   "file_extension": ".py",
   "mimetype": "text/x-python",
   "name": "python",
   "nbconvert_exporter": "python",
   "pygments_lexer": "ipython3",
   "version": "3.12.10"
  }
 },
 "nbformat": 4,
 "nbformat_minor": 2
}
